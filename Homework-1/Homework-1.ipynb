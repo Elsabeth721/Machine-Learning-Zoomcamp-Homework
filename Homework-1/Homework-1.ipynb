{
 "cells": [
  {
   "cell_type": "code",
   "execution_count": 2,
   "id": "e6a0351d",
   "metadata": {},
   "outputs": [
    {
     "data": {
      "text/plain": [
       "'2.3.3'"
      ]
     },
     "execution_count": 2,
     "metadata": {},
     "output_type": "execute_result"
    }
   ],
   "source": [
    "import pandas as pd\n",
    "pd.__version__\n"
   ]
  },
  {
   "cell_type": "code",
   "execution_count": 4,
   "id": "fdf48706",
   "metadata": {},
   "outputs": [
    {
     "name": "stdout",
     "output_type": "stream",
     "text": [
      "Number of records: 9704\n"
     ]
    }
   ],
   "source": [
    "url= \"https://raw.githubusercontent.com/alexeygrigorev/datasets/master/car_fuel_efficiency.csv\"\n",
    "df = pd.read_csv(url)\n",
    "records = len(df)\n",
    "print(f\"Number of records: {records}\")"
   ]
  },
  {
   "cell_type": "code",
   "execution_count": 12,
   "id": "9539f84a",
   "metadata": {},
   "outputs": [
    {
     "name": "stdout",
     "output_type": "stream",
     "text": [
      "Index(['engine_displacement', 'num_cylinders', 'horsepower', 'vehicle_weight',\n",
      "       'acceleration', 'model_year', 'origin', 'fuel_type', 'drivetrain',\n",
      "       'num_doors', 'fuel_efficiency_mpg'],\n",
      "      dtype='object')\n",
      "Number of unique fuel types: 2\n",
      "Fuel types: ['Gasoline' 'Diesel']\n"
     ]
    }
   ],
   "source": [
    "print(df.columns)\n",
    "fuel_types = df[\"fuel_type\"].unique()\n",
    "No_fuel_types= len(fuel_types)\n",
    "print(f\"Number of unique fuel types: {No_fuel_types}\")\n",
    "print(f\"Fuel types: {fuel_types}\")"
   ]
  },
  {
   "cell_type": "code",
   "execution_count": 23,
   "id": "cb7db53b",
   "metadata": {},
   "outputs": [
    {
     "name": "stdout",
     "output_type": "stream",
     "text": [
      "Number of columns with missing values: 4\n"
     ]
    }
   ],
   "source": [
    "num_missing_values =(df.isna().sum() >0 ).sum()\n",
    "print(f\"Number of columns with missing values: {num_missing_values}\")"
   ]
  },
  {
   "cell_type": "code",
   "execution_count": null,
   "id": "2d8deaaf",
   "metadata": {},
   "outputs": [
    {
     "name": "stdout",
     "output_type": "stream",
     "text": [
      "Maximum fuel efficiency (mpg) of cars from asia: 23.759122836520497\n"
     ]
    }
   ],
   "source": [
    "asia_cars =df[df[\"origin\"]== \"Asia\"]\n",
    "max_fuel_efficiency_asia =asia_cars[\"fuel_efficiency_mpg\"].max()\n",
    "print(f\"Maximum fuel efficiency (mpg) of cars from asia: {max_fuel_efficiency_asia}\")\n",
    "print(asia_cars[asia_cars[\"fuel_efficiency_mpg\"]== max_fuel_efficiency_asia])"
   ]
  },
  {
   "cell_type": "code",
   "execution_count": 5,
   "id": "19daf61c",
   "metadata": {},
   "outputs": [
    {
     "name": "stdout",
     "output_type": "stream",
     "text": [
      "Median horsepower value: 149.0\n"
     ]
    }
   ],
   "source": [
    "median_before= df[\"horsepower\"].median()\n",
    "print(f\"Median horsepower value: {median_before}\")"
   ]
  },
  {
   "cell_type": "code",
   "execution_count": 7,
   "id": "81283a07",
   "metadata": {},
   "outputs": [
    {
     "name": "stdout",
     "output_type": "stream",
     "text": [
      "Most frequent horsepower value:152.0\n"
     ]
    }
   ],
   "source": [
    "frequent_value = df[\"horsepower\"].mode()[0]\n",
    "print(f\"Most frequent horsepower value:{frequent_value}\")"
   ]
  },
  {
   "cell_type": "code",
   "execution_count": null,
   "id": "2f323a5b",
   "metadata": {},
   "outputs": [],
   "source": [
    "df[\"horsepower\"]= df[\"horsepower\"].fillna(frequent_value)"
   ]
  },
  {
   "cell_type": "code",
   "execution_count": 9,
   "id": "8ad3aedf",
   "metadata": {},
   "outputs": [
    {
     "name": "stdout",
     "output_type": "stream",
     "text": [
      "Median horsepower value after filling missing values: 152.0\n"
     ]
    }
   ],
   "source": [
    "median_after = df[\"horsepower\"].median()\n",
    "print(f\"Median horsepower value after filling missing values: {median_after}\")"
   ]
  },
  {
   "cell_type": "code",
   "execution_count": 10,
   "id": "ee1d13e9",
   "metadata": {},
   "outputs": [
    {
     "name": "stdout",
     "output_type": "stream",
     "text": [
      "Yes, it increased\n"
     ]
    }
   ],
   "source": [
    "if median_after > median_before:\n",
    "    print(\"Yes, it increased\")\n",
    "elif median_after < median_before:\n",
    "    print(\"No, decreased\")\n",
    "else:\n",
    "    print(\"No, it stayed the same\")"
   ]
  },
  {
   "cell_type": "code",
   "execution_count": 14,
   "id": "55a790b8",
   "metadata": {},
   "outputs": [
    {
     "name": "stdout",
     "output_type": "stream",
     "text": [
      "The first seven value:    vehicle_weight  model_year\n",
      "8      2714.219310        2016\n",
      "12     2783.868974        2010\n",
      "14     3582.687368        2007\n",
      "20     2231.808142        2011\n",
      "21     2659.431451        2016\n",
      "34     2844.227534        2014\n",
      "38     3761.994038        2019\n"
     ]
    }
   ],
   "source": [
    "asian_cars =df[df[\"origin\"]== \"Asia\"]\n",
    "subset =asian_cars[[\"vehicle_weight\", \"model_year\"]]\n",
    "seven_value= subset.iloc[:7]\n",
    "print(f\"The first seven value:{seven_value}\")"
   ]
  },
  {
   "cell_type": "code",
   "execution_count": 16,
   "id": "4bb46784",
   "metadata": {},
   "outputs": [],
   "source": [
    "X = seven_value.to_numpy(dtype= float)"
   ]
  },
  {
   "cell_type": "code",
   "execution_count": 18,
   "id": "f3ecc808",
   "metadata": {},
   "outputs": [
    {
     "name": "stdout",
     "output_type": "stream",
     "text": [
      "The matrix-matrix multiplication between the transpose of X and X is : [[62248334.33150762 41431216.5073268 ]\n",
      " [41431216.5073268  28373339.        ]]\n"
     ]
    }
   ],
   "source": [
    "XTX = X.T @ X\n",
    "print(f\"The matrix-matrix multiplication between the transpose of X and X is : {XTX}\")"
   ]
  },
  {
   "cell_type": "code",
   "execution_count": 20,
   "id": "a0c1d0b0",
   "metadata": {},
   "outputs": [
    {
     "name": "stdout",
     "output_type": "stream",
     "text": [
      "The inverse is: [[ 5.71497081e-07 -8.34509443e-07]\n",
      " [-8.34509443e-07  1.25380877e-06]]\n"
     ]
    }
   ],
   "source": [
    "import numpy as np\n",
    "XTX_inv = np.linalg.inv(XTX)\n",
    "print(f\"The inverse is: {XTX_inv}\")"
   ]
  },
  {
   "cell_type": "code",
   "execution_count": 21,
   "id": "dbcc5e57",
   "metadata": {},
   "outputs": [
    {
     "name": "stdout",
     "output_type": "stream",
     "text": [
      "y: [1100 1300  800  900 1000 1100 1200]\n",
      "y-shape: (7,)\n"
     ]
    }
   ],
   "source": [
    "y = np.array([1100, 1300, 800, 900, 1000, 1100, 1200])\n",
    "print(f\"y: {y}\")\n",
    "print(f\"y-shape: {y.shape}\")"
   ]
  },
  {
   "cell_type": "code",
   "execution_count": 22,
   "id": "1d33077f",
   "metadata": {},
   "outputs": [
    {
     "name": "stdout",
     "output_type": "stream",
     "text": [
      "w is: [0.01386421 0.5049067 ]\n"
     ]
    }
   ],
   "source": [
    "w= XTX_inv @ X.T @ y\n",
    "print(f\"w is: {w}\")"
   ]
  },
  {
   "cell_type": "code",
   "execution_count": 23,
   "id": "3fac0f50",
   "metadata": {},
   "outputs": [
    {
     "name": "stdout",
     "output_type": "stream",
     "text": [
      "The sum of the elements of w is: 0.5187709081074016\n"
     ]
    }
   ],
   "source": [
    "w.sum()\n",
    "print(f\"The sum of the elements of w is: {w.sum()}\")"
   ]
  }
 ],
 "metadata": {
  "kernelspec": {
   "display_name": ".venv (3.13.6)",
   "language": "python",
   "name": "python3"
  },
  "language_info": {
   "codemirror_mode": {
    "name": "ipython",
    "version": 3
   },
   "file_extension": ".py",
   "mimetype": "text/x-python",
   "name": "python",
   "nbconvert_exporter": "python",
   "pygments_lexer": "ipython3",
   "version": "3.13.6"
  }
 },
 "nbformat": 4,
 "nbformat_minor": 5
}
